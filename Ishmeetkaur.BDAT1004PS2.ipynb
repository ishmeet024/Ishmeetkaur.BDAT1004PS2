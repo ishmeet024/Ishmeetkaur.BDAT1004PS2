{
 "cells": [
  {
   "cell_type": "markdown",
   "id": "77e44590-1d89-4691-905e-cb394b962356",
   "metadata": {},
   "source": [
    "Question1:\n",
    "\n",
    "Consider the following Python module:\n",
    "a = 0\n",
    "def b():\n",
    "global a\n",
    "a = c(a)\n",
    "def c(a):\n",
    "return a + 2\n",
    "After importing the module into the interpreter, you execute:\n",
    "b()\n",
    "b()\n",
    "b()\n",
    "a\n",
    "?\n",
    "What value is displayed when the last expression (a) is evaluated? Explain your answer by indicating what happens in every executed statement."
   ]
  },
  {
   "cell_type": "code",
   "execution_count": 5,
   "id": "618ebe8a-2440-41b1-9d93-fdad27998d5a",
   "metadata": {},
   "outputs": [],
   "source": [
    "# Initialize a to 0 \n",
    "a= 0\n",
    "\n",
    "#Define function b \n",
    "def b():\n",
    "    global a                  # Declare as global variable \n",
    "    a = c(a)                # Call function c with a as the argument and assign the result back to a\n",
    "# Define function c\n",
    "def c(a): \n",
    "    return a+2    # Return the value of a incremented by 2"
   ]
  },
  {
   "cell_type": "code",
   "execution_count": 6,
   "id": "1b765242-42b9-4c17-84f9-7c90ca85d4ca",
   "metadata": {},
   "outputs": [],
   "source": [
    "b() # In the first time of execution, function b re-identify the global variable \"a\", which is the result of function c(a) and leads to the first time execution of function c(a), which return a+2, in this case, is 0+2 = 2. This global value of a is stored in function c. "
   ]
  },
  {
   "cell_type": "code",
   "execution_count": 8,
   "id": "9f23d048-2f19-4bbb-aca4-cb04fd271547",
   "metadata": {},
   "outputs": [
    {
     "data": {
      "text/plain": [
       "2"
      ]
     },
     "execution_count": 8,
     "metadata": {},
     "output_type": "execute_result"
    }
   ],
   "source": [
    "# Evaluate a \n",
    "a   "
   ]
  },
  {
   "cell_type": "code",
   "execution_count": 9,
   "id": "89ffadb7-a3bc-498c-9c66-99137e2662e7",
   "metadata": {},
   "outputs": [],
   "source": [
    "b()  # In the second time of execution, again, the execution of function b was delivered back to function, which return a+2, which is 2+2=4 this time. The result was updated and stored in funciton c"
   ]
  },
  {
   "cell_type": "code",
   "execution_count": 10,
   "id": "6dcc4916-dce9-4a4e-a5e5-c8c63367750e",
   "metadata": {},
   "outputs": [
    {
     "data": {
      "text/plain": [
       "4"
      ]
     },
     "execution_count": 10,
     "metadata": {},
     "output_type": "execute_result"
    }
   ],
   "source": [
    "a"
   ]
  },
  {
   "cell_type": "code",
   "execution_count": 11,
   "id": "2e341ba1-5d4a-4a31-b266-fcb352000f1c",
   "metadata": {},
   "outputs": [],
   "source": [
    "b() # In the third time of execution, the execution of function b leads to the execution of function c, which add 2 on the previous result of 4, which return a new \"a\" with value 6. The new value of variable \"a\" was stored in function c."
   ]
  },
  {
   "cell_type": "code",
   "execution_count": 12,
   "id": "55b8a9e7-502e-4397-ab0e-dabc784f5b96",
   "metadata": {},
   "outputs": [
    {
     "data": {
      "text/plain": [
       "6"
      ]
     },
     "execution_count": 12,
     "metadata": {},
     "output_type": "execute_result"
    }
   ],
   "source": [
    "a"
   ]
  },
  {
   "cell_type": "markdown",
   "id": "6c924896-501a-4266-adff-745811d48bdd",
   "metadata": {},
   "source": [
    "Question 2:\n",
    "\n",
    "Function fileLength(), given to you, takes the name of a file as input and returns the length of the file: >>> fileLength('midterm.py') 284 >>> fileLength('idterm.py') Traceback (most recent call last): File \"<pyshell#34>\", line 1, in <module> fileLength('idterm.py') File \"/Users/me/midterm.py\", line 3, in fileLength infile = open(filename) FileNotFoundError: [Errno 2] No such file or directory: 'idterm.py'\n",
    "As shown above, if the file cannot be found by the interpreter or if it cannot be read as a text file, an exception will be raised. Modify function fileLength() so that a friendly message is printed instead: >>> fileLength('midterm.py') 358 >>> fileLength('idterm.py') File idterm.py not found."
   ]
  },
  {
   "cell_type": "code",
   "execution_count": 89,
   "id": "0ae9215c-ab6d-4b3a-aa11-e72d0a90f472",
   "metadata": {},
   "outputs": [],
   "source": [
    "def fileLength(file_name):\n",
    "    try:\n",
    "        infile=open(file_name)\n",
    "        data=infile.read()\n",
    "        length=len(data)\n",
    "        infile.close()\n",
    "        print(length)\n",
    "        \n",
    "    except FileNotFoundError:                     #If 'fileNotFoundError' is there, then this exception works\n",
    "        print(\"File {} not found.\".format(file_name))  "
   ]
  },
  {
   "cell_type": "code",
   "execution_count": 91,
   "id": "e83f5500-98b0-44cf-be5c-32057c002dc7",
   "metadata": {},
   "outputs": [
    {
     "name": "stdout",
     "output_type": "stream",
     "text": [
      "123\n"
     ]
    }
   ],
   "source": [
    "fileLength('Filelength.txt')           #When the file is present"
   ]
  },
  {
   "cell_type": "code",
   "execution_count": 92,
   "id": "b63e1761-f3bb-4683-8d9c-7d4831adb500",
   "metadata": {},
   "outputs": [
    {
     "name": "stdout",
     "output_type": "stream",
     "text": [
      "File idterm.txt not found.\n"
     ]
    }
   ],
   "source": [
    "fileLength('idterm.txt')  "
   ]
  },
  {
   "cell_type": "markdown",
   "id": "b752b32b-695a-4b89-9c4f-b5e3f34dbf78",
   "metadata": {},
   "source": [
    "Question 3\n",
    "\n",
    "Write a class named Marsupial that can be used as shown below:\n",
    "\n",
    "m = Marsupial()\n",
    "m.put_in_pouch('doll') \n",
    "m.put_in_pouch('firetruck') \n",
    "m.put_in_pouch('kitten')\n",
    "m.pouch_contents() ['doll', 'firetruck', 'kitten']\n",
    "\n",
    "Now write a class named Kangaroo as a subclass of Marsupial that inherits all the attributes of Marsupial and also:\n",
    "\n",
    "a. extends the Marsupial __init__ constructor to take, as input, the coordinates x and y of the Kangaroo object,\n",
    "b. supports method jump that takes number values dx and dy as input and moves the kangaroo by dx units along the x-axis and by dy units along the y-axis, and\n",
    "c. overloads the __str__ operator so it behaves as shown below.\n",
    "k = Kangaroo(0,0) \n",
    "print(k) I am a Kangaroo located at coordinates (0,0) \n",
    "k.put_in_pouch('doll') \n",
    "k.put_in_pouch('firetruck') \n",
    "k.put_in_pouch('kitten') \n",
    "k.pouch_contents() ['doll', 'firetruck', 'kitten'] \n",
    "k.jump(1,0) \n",
    "k.jump(1,0)\n",
    "k.jump(1,0)\n",
    "print(k) I am a Kangaroo located at coordinates (3,0)"
   ]
  },
  {
   "cell_type": "code",
   "execution_count": 39,
   "id": "38b33fb7-32da-4571-abe0-ec2bd2109c56",
   "metadata": {},
   "outputs": [],
   "source": [
    "\n",
    "# Define the Marsupial class\n",
    "class Marsupial:\n",
    "    def __init__(self):\n",
    "        # Initialize an empty list for pouch contents\n",
    "        self.pouch = []\n",
    "\n",
    "    # Method to add an item to the pouch\n",
    "    def put_in_pouch(self, item):\n",
    "        self.pouch.append(item)\n",
    "\n",
    "    # Method to return the contents of the pouch\n",
    "    def pouch_contents(self):\n",
    "        return self.pouch\n",
    "\n",
    "# Define the Kangaroo class as a subclass of Marsupial\n",
    "class Kangaroo(Marsupial):\n",
    "    def __init__(self, x, y):\n",
    "        # Initialize the parent class (Marsupial)\n",
    "        super().__init__()\n",
    "        # Initialize the coordinates of the Kangaroo\n",
    "        self.x = x\n",
    "        self.y = y\n",
    "\n",
    "    # Method to move the kangaroo by dx and dy units\n",
    "    def jump(self, dx, dy):\n",
    "        self.x += dx\n",
    "        self.y += dy\n",
    "\n",
    "    # Overload the __str__ method to provide a custom string representation\n",
    "    def __str__(self):\n",
    "        return 'I am a Kangaroo located at coordinates ({}, {})'.format(self.x, self.y)"
   ]
  },
  {
   "cell_type": "code",
   "execution_count": 40,
   "id": "fe770882-8614-4be1-8588-da236fa6e862",
   "metadata": {},
   "outputs": [
    {
     "name": "stdout",
     "output_type": "stream",
     "text": [
      "['doll', 'firetruck', 'kitten']\n"
     ]
    }
   ],
   "source": [
    "# Testing the Marsupial class\n",
    "m = Marsupial()\n",
    "m.put_in_pouch('doll')          # Add 'doll' to the pouch\n",
    "m.put_in_pouch('firetruck')     # Add 'firetruck' to the pouch\n",
    "m.put_in_pouch('kitten')        # Add 'kitten' to the pouch\n",
    "print(m.pouch_contents())       # Output: ['doll', 'firetruck', 'kitten']"
   ]
  },
  {
   "cell_type": "code",
   "execution_count": 41,
   "id": "e77b3a18-e6ff-499b-bc81-d7e5e7732415",
   "metadata": {},
   "outputs": [
    {
     "name": "stdout",
     "output_type": "stream",
     "text": [
      "I am a Kangaroo located at coordinates (0, 0)\n"
     ]
    }
   ],
   "source": [
    "# Testing the Kangaroo class\n",
    "k = Kangaroo(0, 0)\n",
    "print(k)  # Output: I am a Kangaroo located at coordinates (0, 0)\n",
    "k.put_in_pouch('doll')          # Add 'doll' to the pouch\n",
    "k.put_in_pouch('firetruck')     # Add 'firetruck' to the pouch\n",
    "k.put_in_pouch('kitten')        # Add 'kitten' to the pouch"
   ]
  },
  {
   "cell_type": "code",
   "execution_count": 42,
   "id": "581105cb-9240-4dde-ad64-9b1184806f1c",
   "metadata": {},
   "outputs": [
    {
     "name": "stdout",
     "output_type": "stream",
     "text": [
      "['doll', 'firetruck', 'kitten']\n",
      "I am a Kangaroo located at coordinates (3, 0)\n"
     ]
    }
   ],
   "source": [
    "print(k.pouch_contents())       # Output: ['doll', 'firetruck', 'kitten']\n",
    "k.jump(1, 0)                    # Move the kangaroo by (1, 0)\n",
    "k.jump(1, 0)                    # Move the kangaroo by (1, 0)\n",
    "k.jump(1, 0)                    # Move the kangaroo by (1, 0)\n",
    "print(k)  "
   ]
  },
  {
   "cell_type": "markdown",
   "id": "d672e1de-1a42-4b46-98af-e4e587e45e40",
   "metadata": {},
   "source": [
    "Question 4:\n",
    "\n",
    "Write function collatz() that takes a positive integer x as input and prints the Collatz sequence starting at x. A Collatz sequence is obtained by repeatedly applying this rule to the previous number x in the sequence:\n",
    "\n",
    "x = { 𝑥/2 𝑖𝑓 𝑥 𝑖𝑠 𝑒𝑣𝑒𝑛3𝑥+1 𝑖𝑓 𝑥 𝑖𝑠 𝑜𝑑𝑑\n",
    "Your function should stop when the sequence gets to number 1. Your implementation must be recursive, without any loops.\n",
    "\n",
    "collatz(1)\n",
    "\n",
    "1\n",
    "\n",
    "collatz(10)\n",
    "\n",
    "10\n",
    "5\n",
    "16\n",
    "8\n",
    "4\n",
    "2\n",
    "1"
   ]
  },
  {
   "cell_type": "code",
   "execution_count": 47,
   "id": "ab663a42-f168-40f6-a70b-6a66bde95ea0",
   "metadata": {},
   "outputs": [
    {
     "name": "stdout",
     "output_type": "stream",
     "text": [
      "collatz sequence of 1 is \n",
      "1\n",
      "collatz sequence of 10 is \n",
      "10\n",
      "5\n",
      "16\n",
      "8\n",
      "4\n",
      "2\n",
      "1\n"
     ]
    }
   ],
   "source": [
    "def collatz(number):\n",
    "    \n",
    "    print('collatz sequence of {} is '.format(number))\n",
    "    print(number)\n",
    "    \n",
    "    while number!= 1:\n",
    "        \n",
    "        if number%2 == 0:\n",
    "            number = number//2\n",
    "            print(number)\n",
    "            \n",
    "        else:\n",
    "                number = (3*number) + 1\n",
    "                print(number)\n",
    "                \n",
    "collatz(1)\n",
    "collatz(10)"
   ]
  },
  {
   "cell_type": "markdown",
   "id": "08307729-68bc-4b6f-a42b-7ec7180b5c2d",
   "metadata": {},
   "source": [
    "Question 5:\n",
    "Write a recursive method binary() that takes a non-negative integer n and prints the binary representation of integer n. \n",
    "\n",
    "binary(0) 0 \n",
    "\n",
    "binary(1) 1 \n",
    "\n",
    "binary(3) 11 \n",
    "\n",
    "binary(9) 1001"
   ]
  },
  {
   "cell_type": "code",
   "execution_count": 48,
   "id": "1d6c2b19-55f8-48a8-a9e1-378d01fe2fff",
   "metadata": {},
   "outputs": [
    {
     "name": "stdout",
     "output_type": "stream",
     "text": [
      "Binary representation of 0 is\n",
      "0\n",
      "Binary representation of 1 is\n",
      "1\n",
      "Binary representation of 3 is\n",
      "11\n",
      "Binary representation of 9 is\n",
      "1001\n"
     ]
    }
   ],
   "source": [
    "def binary(integer):         #defining binary method which takes non-negative integet\n",
    "    \n",
    "    print(\"Binary representation of {} is\".format(integer))\n",
    "    \n",
    "    if(integer >= 0):                            #if integer is 0 or more then print integer in binary form\n",
    "        print(format(integer,\"b\"))          \n",
    "    \n",
    "    else:\n",
    "        return 'number is negative or 0'                 #else print that the number is negative or zero.\n",
    "    \n",
    "\n",
    "binary(0)\n",
    "binary(1)\n",
    "binary(3)\n",
    "binary(9)"
   ]
  },
  {
   "cell_type": "markdown",
   "id": "2b88e320-1e47-48e8-9d16-ff4ca119e238",
   "metadata": {},
   "source": [
    "Question 6:\n",
    "Implement a class named HeadingParser that can be used to parse an HTML document, and retrieve and print all the headings in the document.\n",
    "You should implement your class as a subclass of HTMLParser, defined in Standard Library module html.parser. \n",
    "When fed a string containing HTML code, your class should print the headings, one per line and in the order in which they appear in the document.\n",
    "Each heading should be indented as follows: an h1 heading should have\n",
    "indentation 0, and h2 heading should have indentation 1, etc. Test your implementation using w3c.html.\n",
    "infile = open('w3c.html')\n",
    "content = infile.read()\n",
    "infile.close()\n",
    "hp = HeadingParser()\n",
    "hp.feed(content)\n",
    "W3C Mission\n",
    "Principles"
   ]
  },
  {
   "cell_type": "code",
   "execution_count": 50,
   "id": "6a165e8d-8396-4613-ab2a-3a207803e6ae",
   "metadata": {},
   "outputs": [],
   "source": [
    "from html.parser import HTMLParser"
   ]
  },
  {
   "cell_type": "code",
   "execution_count": 56,
   "id": "47334f1e-e991-42f8-ad82-21c0b032be25",
   "metadata": {},
   "outputs": [],
   "source": [
    "class HeadingParser(HTMLParser):\n",
    "    \n",
    "    def __init__(self):\n",
    "        super().__init__()\n",
    "        self.current_start_tag = ''\n",
    "        self.current_data = ''\n",
    "        self.current_end_tag = ''\n",
    "        self.tag_indents = {'h1':'','h2':' ','h3':'  ','h4':'   ','h5':'    ','h6':'     '}\n",
    "    \n",
    "    def handle_starttag(self, tag, attrs):\n",
    "#         print(\"Start tag:\", tag)\n",
    "#         for attr in attrs:\n",
    "#             print(\"     attr:\", attr)\n",
    "        self.current_start_tag = tag\n",
    "            \n",
    "    def handle_endtag(self, tag):\n",
    "#         print(\"End tag  :\", tag)\n",
    "        self.current_end_tag = tag\n",
    "        if self.current_start_tag in ['h1','h2','h3','h4','h5','h6'] and self.current_start_tag == self.current_end_tag:\n",
    "            print(f\"{self.tag_indents[self.current_start_tag]}{self.current_data}\")\n",
    "        \n",
    "    def handle_data(self, data):\n",
    "#         print(\"Encountered some data  :\", data)\n",
    "        self.current_data = data"
   ]
  },
  {
   "cell_type": "code",
   "execution_count": 57,
   "id": "adee8e9d-4dcf-44ce-af27-6d73687153ab",
   "metadata": {},
   "outputs": [],
   "source": [
    "infile = open('w3c.txt')\n",
    "content = infile.read()\n",
    "infile.close()"
   ]
  },
  {
   "cell_type": "code",
   "execution_count": 58,
   "id": "5621a3a9-263b-4855-bf60-5a8305d3b243",
   "metadata": {},
   "outputs": [],
   "source": [
    "hp = HeadingParser()"
   ]
  },
  {
   "cell_type": "code",
   "execution_count": 59,
   "id": "abdf3e90-ca9f-4531-9c38-ef6c37957917",
   "metadata": {},
   "outputs": [
    {
     "data": {
      "text/plain": [
       "'<!DOCTYPE html>\\n<html lang=\"en\">\\n\\n<head>\\n  <meta name=\"description\" content=\"Webpage description goes here\" />\\n  <meta charset=\"utf-8\">\\n  <title>Change_me</title>\\n  <meta name=\"viewport\" content=\"width=device-width, initial-scale=1\">\\n  <meta name=\"author\" content=\"\">\\n  <link rel=\"stylesheet\" href=\"css/style.css\">\\n</head>\\n\\n<body>\\n  \\n\\t<h1>W3C Mission</h1>\\n\\t<h2>Principles</h2>\\n \\n\\n\\n</body>\\n</html>'"
      ]
     },
     "execution_count": 59,
     "metadata": {},
     "output_type": "execute_result"
    }
   ],
   "source": [
    "content"
   ]
  },
  {
   "cell_type": "code",
   "execution_count": 60,
   "id": "e7527d64-5692-44e7-910c-1afc970b03d8",
   "metadata": {},
   "outputs": [
    {
     "name": "stdout",
     "output_type": "stream",
     "text": [
      "W3C Mission\n",
      " Principles\n"
     ]
    }
   ],
   "source": [
    "hp.feed(content)"
   ]
  },
  {
   "cell_type": "markdown",
   "id": "3bc8e82f-4b95-498a-8636-3e2442f96d5b",
   "metadata": {},
   "source": [
    "Question 7:\n",
    "Implement recursive function webdir() that takes as input: a URL (as a string) and non-negative integers depth and indent. Your function should visit every web page reachable from the starting URL web page in depth clicks or less, and print each web page's URL. As shown below, indentation, specified by indent, should be used to indicate the depth of a URL. >>> webdir('http://reed.cs.depaul.edu/lperkovic/csc242/test1.html', 2, 0) http://reed.cs.depaul.edu/lperkovic/csc242/test1.html http://reed.cs.depaul.edu/lperkovic/csc242/test2.html http://reed.cs.depaul.edu/lperkovic/csc242/test4.html http://reed.cs.depaul.edu/lperkovic/csc242/test3.html http://reed.cs.depaul.edu/lperkovic/csc242/test4.html"
   ]
  },
  {
   "cell_type": "code",
   "execution_count": 62,
   "id": "ad78f4c7-4d97-47d0-a274-724bec9653ac",
   "metadata": {},
   "outputs": [],
   "source": [
    "from urllib.request import urlopen\n",
    "from urllib.parse import urlparse\n",
    "from urllib.parse import urljoin\n",
    "from html.parser import HTMLParser\n",
    "\n",
    "class LinkParser(HTMLParser):\n",
    "    \n",
    "    def __init__(self, url):\n",
    "                                            #here, we are initializing parser, the url and the list.\n",
    "        HTMLParser.__init__(self)\n",
    "        self.url = url\n",
    "        self.links = []\n",
    "\n",
    "    def handle_starttag(self, tag, attrs):\n",
    "        if tag == 'a':\n",
    "                                              #Search for href attribute\n",
    "            for attr, value in attrs:\n",
    "                if attr == 'href':\n",
    "                    url1 = urljoin(self.url, value)\n",
    "                    self.links.append(url1)\n",
    "\n",
    "def webdir(url, depth, indent):\n",
    "    if depth == 0:                            #Base condition for the recursive function\n",
    "        return\n",
    "\n",
    "    \n",
    "    print(\" \" * indent + url)                 #Printing the current URL with the indentation\n",
    "\n",
    "    try:\n",
    "        response = urlopen(url)\n",
    "    except:\n",
    "        return\n",
    "\n",
    "    if not response.getheader(\"Content-Type\").startswith(\"text/html\"):   #Checking whether the response header for URL that was fetched starts with the string \"text/html\"\n",
    "        return\n",
    "\n",
    "    html = response.read()         #Obtaining links in the web-page\n",
    "    html = response.decode()\n",
    "    parser = LinkParser(url)\n",
    "    parser.feed(html)\n",
    "    links = parser.links\n",
    "    \n",
    "    for link in links:\n",
    "        webdir(link, depth-1, indent+1)"
   ]
  },
  {
   "cell_type": "code",
   "execution_count": 64,
   "id": "0dd56426-d654-41c0-b5df-27ce30687e18",
   "metadata": {},
   "outputs": [
    {
     "name": "stdout",
     "output_type": "stream",
     "text": [
      "http://reed.cs.depaul.edu/lperkovic/csc242/test1.html\n"
     ]
    }
   ],
   "source": [
    "webdir(\"http://reed.cs.depaul.edu/lperkovic/csc242/test1.html\", 2, 0)"
   ]
  },
  {
   "cell_type": "markdown",
   "id": "9fb97275-367b-4170-aa5f-be5ad23730dd",
   "metadata": {},
   "source": [
    "Question 8:\n",
    "Write SQL queries on the below database table that return:\n",
    "\n",
    "a) All the temperature data.\n",
    "\n",
    "b) All the cities, but without repetition.\n",
    "\n",
    "c) All the records for India.\n",
    "\n",
    "d) All the Fall records\n",
    "\n",
    "e) The city, country, and season for which the average rainfall is between 200 and 400 millimeters.\n",
    "\n",
    "f) The city and country for which the average Fall temperature is above 20 degrees, in increasing temperature order.\n",
    "\n",
    "g) The total annual rainfall for Cairo.\n",
    "\n",
    "h) The total rainfall for each season."
   ]
  },
  {
   "cell_type": "markdown",
   "id": "7c3800ec-5497-4906-b56c-9934d7a07a96",
   "metadata": {},
   "source": [
    "|City   |Country             |Season    |Tempreture(c)  |Rainfall(mm) |\n",
    "|:------|--------------------|----------|---------------|------------:|\n",
    "|Mumbai |India               |Winter    |24.8           |5.9          |\n",
    "|Mumbai |India               |Spring    |28.4           |16.2         |\n",
    "|Mumbai |India               |Summer    |27.9           |1549.4       |\n",
    "|Mumbai |India               |Fall      |27.6           |346.0        |\n",
    "|Mumbai |India               |Winter    |24.8           |5.9          |\n",
    "|London |United Kingdom      |Winter    |4.2            |207.7        |\n",
    "|London |United Kingdom      |Spring    |8.3            |169.6        |\n",
    "|London |United Kingdom      |Summer    |15.7           |157.0        |\n",
    "|London |United Kingdom      |Fall      |10.4           |218.5        |\n",
    "|Cairo  |Egypt               |Winter    |13.6           |16.5         |\n",
    "|Cairo  |Egypt               |Spring    |20.7           |6.5          |\n",
    "|Cairo  |Egypt               |Summer    |27.7           |0.1          |\n",
    "|Cairo  |Egypt               |Fall      |22.2           |4.5          |"
   ]
  },
  {
   "cell_type": "code",
   "execution_count": 69,
   "id": "e6775533-9b7f-4a1a-8fc1-b2f2febaf896",
   "metadata": {},
   "outputs": [],
   "source": [
    "import sqlite3\n",
    "#Creating Database\n",
    "conn = sqlite3.connect('weatherreport.db')\n",
    "cur = conn.cursor()\n",
    "#Drop the table if it exist\n",
    "cur.execute(\"DROP TABLE IF EXISTS weather;\")\n",
    "#Table creation\n",
    "cur.execute(\"CREATE TABLE weather (city TEXT, country TEXT, season TEXT, temperature float, rainfall float)\")\n",
    "#Inserting values to the table\n",
    "cur.execute(\"INSERT INTO weather VALUES('Mumbai', 'India', 'Winter', 24.8, 5.9);\")\n",
    "cur.execute(\"INSERT INTO weather VALUES('Mumbai', 'India', 'Summer', 27.9, 1549.4);\")\n",
    "cur.execute(\"INSERT INTO weather VALUES('Mumbai', 'India', 'Fall', 27.6, 346.0);\")\n",
    "cur.execute(\"INSERT INTO weather VALUES('London', 'United Kingdom', 'Winter', 4.2, 207.7);\")\n",
    "cur.execute(\"INSERT INTO weather VALUES('London', 'United Kingdom', 'Spring', 8.3, 169.6);\")\n",
    "cur.execute(\"INSERT INTO weather VALUES('London', 'United Kingdom', 'Summer', 15.7, 157.0);\")\n",
    "cur.execute(\"INSERT INTO weather VALUES('London', 'United Kingdom', 'Fall', 10.4, 218.5);\")\n",
    "cur.execute(\"INSERT INTO weather VALUES('Cairo', 'Egypt', 'Winter', 13.6, 16.5);\")\n",
    "cur.execute(\"INSERT INTO weather VALUES('Cairo', 'Egypt', 'Spring', 20.7, 6.5);\")\n",
    "\n",
    "conn.commit()\n",
    "\n"
   ]
  },
  {
   "cell_type": "code",
   "execution_count": 73,
   "id": "4ef7474c-9b0d-4a74-ba3f-83afcf2367a7",
   "metadata": {},
   "outputs": [
    {
     "name": "stdout",
     "output_type": "stream",
     "text": [
      "Query 1: (24.8,)\n",
      "Query 1: (27.9,)\n",
      "Query 1: (27.6,)\n",
      "Query 1: (4.2,)\n",
      "Query 1: (8.3,)\n",
      "Query 1: (15.7,)\n",
      "Query 1: (10.4,)\n",
      "Query 1: (13.6,)\n",
      "Query 1: (20.7,)\n"
     ]
    }
   ],
   "source": [
    "# Query 1\n",
    "cur.execute('SELECT temperature FROM weather')\n",
    "for record in cur:\n",
    "    print(\"Query 1:\",record)"
   ]
  },
  {
   "cell_type": "code",
   "execution_count": 74,
   "id": "c54e256e-1e4d-4a05-b164-55b4f59d9b8c",
   "metadata": {},
   "outputs": [
    {
     "name": "stdout",
     "output_type": "stream",
     "text": [
      "Query 2: ('Mumbai',)\n",
      "Query 2: ('London',)\n",
      "Query 2: ('Cairo',)\n"
     ]
    }
   ],
   "source": [
    "# Query 2\n",
    "cur.execute('SELECT DISTINCT city FROM weather')\n",
    "for record in cur:\n",
    "    print(\"Query 2:\",record)"
   ]
  },
  {
   "cell_type": "code",
   "execution_count": 76,
   "id": "d3bb8423-69de-4a51-b60c-00325431fe3b",
   "metadata": {},
   "outputs": [
    {
     "name": "stdout",
     "output_type": "stream",
     "text": [
      "Query 3: ('Mumbai', 'India', 'Fall', 27.6, 346.0)\n",
      "Query 3: ('London', 'United Kingdom', 'Fall', 10.4, 218.5)\n"
     ]
    }
   ],
   "source": [
    "# Query 3\n",
    "cur.execute('SELECT * FROM weather WHERE season = \"Fall\"')\n",
    "for record in cur:\n",
    "    print(\"Query 3:\",record)"
   ]
  },
  {
   "cell_type": "code",
   "execution_count": 77,
   "id": "8a6e2ea6-8300-4320-8506-e308501498a5",
   "metadata": {},
   "outputs": [
    {
     "name": "stdout",
     "output_type": "stream",
     "text": [
      "Query 4: ('Mumbai', 'India', 'Winter', 24.8, 5.9)\n",
      "Query 4: ('Mumbai', 'India', 'Summer', 27.9, 1549.4)\n",
      "Query 4: ('Mumbai', 'India', 'Fall', 27.6, 346.0)\n"
     ]
    }
   ],
   "source": [
    "# Query 4\n",
    "cur.execute('SELECT * FROM weather WHERE country = \"India\"')\n",
    "for record in cur:\n",
    "    print(\"Query 4:\",record)"
   ]
  },
  {
   "cell_type": "code",
   "execution_count": 78,
   "id": "f475dc4c-e6db-4441-9a3b-6d30131f1d7a",
   "metadata": {},
   "outputs": [
    {
     "name": "stdout",
     "output_type": "stream",
     "text": [
      "Query 5: ('Mumbai', 'India')\n"
     ]
    }
   ],
   "source": [
    "# Query 5\n",
    "cur.execute('SELECT city, country FROM weather WHERE (season = \"Fall\") AND (temperature > 20) ORDER BY temperature DESC')\n",
    "for record in cur:\n",
    "    print(\"Query 5:\",record)"
   ]
  },
  {
   "cell_type": "code",
   "execution_count": 79,
   "id": "e9fafda1-6e62-469c-945f-570da99c6d14",
   "metadata": {},
   "outputs": [
    {
     "name": "stdout",
     "output_type": "stream",
     "text": [
      "Query 6: ('Mumbai', 'India', 'Fall')\n",
      "Query 6: ('London', 'United Kingdom', 'Winter')\n",
      "Query 6: ('London', 'United Kingdom', 'Fall')\n"
     ]
    }
   ],
   "source": [
    "# Query 6\n",
    "cur.execute('SELECT city, country, season FROM weather WHERE (rainfall > 200) AND (rainfall < 400)')\n",
    "for record in cur:\n",
    "    print(\"Query 6:\",record)"
   ]
  },
  {
   "cell_type": "code",
   "execution_count": 80,
   "id": "3df26ec5-c464-413f-a974-cd4c50ebc507",
   "metadata": {},
   "outputs": [
    {
     "name": "stdout",
     "output_type": "stream",
     "text": [
      "Query 6: [(23.0,)]\n"
     ]
    }
   ],
   "source": [
    "# Query 7\n",
    "cur.execute('SELECT SUM(rainfall) FROM weather WHERE city = \"Cairo\"')\n",
    "Annual_rainfall = cur.fetchall()\n",
    "print(\"Query 6:\",Annual_rainfall)"
   ]
  },
  {
   "cell_type": "code",
   "execution_count": 82,
   "id": "10f08e12-2b3a-464e-9d79-6250067e4ff0",
   "metadata": {},
   "outputs": [
    {
     "name": "stdout",
     "output_type": "stream",
     "text": [
      "Query 7: (564.5, 'Fall')\n",
      "Query 7: (176.1, 'Spring')\n",
      "Query 7: (1706.4, 'Summer')\n",
      "Query 7: (230.1, 'Winter')\n"
     ]
    }
   ],
   "source": [
    "# Query 8\n",
    "cur.execute('SELECT SUM(rainfall), season FROM weather GROUP BY season')\n",
    "for record in cur:\n",
    "    print(\"Query 7:\",record)"
   ]
  },
  {
   "cell_type": "code",
   "execution_count": 83,
   "id": "1664a833-3f44-476a-8761-b05e7a91f614",
   "metadata": {},
   "outputs": [],
   "source": [
    "conn.close()"
   ]
  },
  {
   "cell_type": "markdown",
   "id": "663adc7a-8c24-431d-b0ee-c3e8f7dd661f",
   "metadata": {},
   "source": [
    "Question 9:\n",
    "\n",
    "Suppose list words is defined as follows:\n",
    "\n",
    "words = ['The', 'quick', 'brown', 'fox', 'jumps', 'over', 'the', 'lazy', 'dog']\n",
    "\n",
    "Write list comprehension expressions that use list words and generate the following lists:\n",
    "\n",
    "a) ['THE', 'QUICK', 'BROWN', 'FOX', 'JUMPS', 'OVER', 'THE', 'LAZY', 'DOG']\n",
    "\n",
    "b) ['the', 'quick', 'brown', 'fox', 'jumps', 'over', 'the', 'lazy', 'dog']\n",
    "\n",
    "c) [3, 5, 5, 3, 5, 4, 3, 4, 3] (the list of lengths of words in list words).\n",
    "\n",
    "d) [['THE', 'the', 3], ['QUICK', 'quick', 5], ['BROWN', 'brown', 5], ['FOX', 'fox', 3], ['JUMPS', 'jumps', 5], ['OVER', 'over', 4], ['THE', 'the', 3], ['LAZY', 'lazy', 4], ['DOG', 'dog', 3]] (the list containing a list for every word of list words, where each list contains the word in uppercase and lowercase and the length of the word.)\n",
    "\n",
    "e) ['The', 'quick', 'brown', 'fox', 'jumps', 'over', 'the', 'lazy', 'dog'] (the list of words in list words containing 4 or more characters.)"
   ]
  },
  {
   "cell_type": "code",
   "execution_count": 84,
   "id": "eb32b49d-bc92-4e0d-86fa-ac48557673d0",
   "metadata": {},
   "outputs": [
    {
     "name": "stdout",
     "output_type": "stream",
     "text": [
      "['THE', 'QUICK', 'BROWN', 'FOX', 'JUMPS', 'OVER', 'THE', 'LAZY', 'DOG']\n"
     ]
    }
   ],
   "source": [
    "# (a) ['THE', 'QUICK', 'BROWN', 'FOX', 'JUMPS', 'OVER', 'THE', 'LAZY', 'DOG']\n",
    "words = ['The', 'quick', 'brown', 'fox', 'jumps', 'over','the', 'lazy', 'dog']\n",
    "Upper_case = [elements.upper() for elements in words]\n",
    "print (Upper_case)"
   ]
  },
  {
   "cell_type": "code",
   "execution_count": 85,
   "id": "466a51fb-40ac-4903-a9bc-5654aadf2dee",
   "metadata": {},
   "outputs": [
    {
     "name": "stdout",
     "output_type": "stream",
     "text": [
      "['the', 'quick', 'brown', 'fox', 'jumps', 'over', 'the', 'lazy', 'dog']\n"
     ]
    }
   ],
   "source": [
    "# (b) ['the', 'quick', 'brown', 'fox', 'jumps', 'over', 'the', 'lazy', 'dog']\n",
    "Lower_case = [elements.lower() for elements in words]\n",
    "print(Lower_case)"
   ]
  },
  {
   "cell_type": "code",
   "execution_count": 86,
   "id": "20973c99-cae5-49fb-b2da-f3bbc00267e8",
   "metadata": {},
   "outputs": [
    {
     "name": "stdout",
     "output_type": "stream",
     "text": [
      "[3, 5, 5, 3, 5, 4, 3, 4, 3]\n"
     ]
    }
   ],
   "source": [
    "# (c)[3, 5, 5, 3, 5, 4, 3, 4, 3] (the list of lengths of words in list words).\n",
    "Length_Words = [len(elements) for elements in words]\n",
    "print(Length_Words)"
   ]
  },
  {
   "cell_type": "code",
   "execution_count": 87,
   "id": "169f1821-215a-4ad1-9702-4e9b4417569e",
   "metadata": {},
   "outputs": [
    {
     "name": "stdout",
     "output_type": "stream",
     "text": [
      "[['THE', 'the', 3], ['QUICK', 'quick', 5], ['BROWN', 'brown', 5], ['FOX', 'fox', 3], ['JUMPS', 'jumps', 5], ['OVER', 'over', 4], ['THE', 'the', 3], ['LAZY', 'lazy', 4], ['DOG', 'dog', 3]]\n"
     ]
    }
   ],
   "source": [
    "# (d)[['THE', 'the', 3], ['QUICK', 'quick', 5], ['BROWN', 'brown', 5], ['FOX', 'fox', 3], ['JUMPS', 'jumps', 5], ['OVER', 'over', 4], ['THE', 'the', 3], ['LAZY', 'lazy', 4], ['DOG', 'dog', 3]] (the list containing a list for every word of list words, where each list contains the word in uppercase and lowercase and the length of the word.)\n",
    "Answer = [[elements.upper(),elements.lower(),len(elements)] for elements in words]\n",
    "print(Answer)"
   ]
  },
  {
   "cell_type": "code",
   "execution_count": 88,
   "id": "e4d3992f-bebd-4e2a-a4ff-0bc6a6846546",
   "metadata": {},
   "outputs": [
    {
     "name": "stdout",
     "output_type": "stream",
     "text": [
      "['quick', 'brown', 'jumps', 'over', 'lazy']\n"
     ]
    }
   ],
   "source": [
    "# (e)['The', 'quick', 'brown', 'fox', 'jumps', 'over', 'the', 'lazy', 'dog'] (the list of words in list words containing 4 or more characters.)\n",
    "Ans = [elements for elements in words if len(elements)>=4]\n",
    "print(Ans)"
   ]
  },
  {
   "cell_type": "code",
   "execution_count": null,
   "id": "ea10bcbb-6a67-4ef2-bb4f-8a8c7c676f76",
   "metadata": {},
   "outputs": [],
   "source": []
  }
 ],
 "metadata": {
  "kernelspec": {
   "display_name": "Python 3 (ipykernel)",
   "language": "python",
   "name": "python3"
  },
  "language_info": {
   "codemirror_mode": {
    "name": "ipython",
    "version": 3
   },
   "file_extension": ".py",
   "mimetype": "text/x-python",
   "name": "python",
   "nbconvert_exporter": "python",
   "pygments_lexer": "ipython3",
   "version": "3.11.7"
  }
 },
 "nbformat": 4,
 "nbformat_minor": 5
}
